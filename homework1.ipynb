{
 "cells": [
  {
   "cell_type": "code",
   "execution_count": 8,
   "id": "46572951",
   "metadata": {},
   "outputs": [
    {
     "name": "stdout",
     "output_type": "stream",
     "text": [
      "5432\n"
     ]
    }
   ],
   "source": [
    "a=int(input())\n",
    "b=abs(a)\n",
    "reverse=0\n",
    "while b>0:\n",
    "    lastnum=b%10\n",
    "    reverse=reverse*10+lastnum\n",
    "    b=b//10\n",
    "if a<0:\n",
    "    reverse=\"-\"+reverse\n",
    "print(reverse)\n",
    "\n",
    "\n",
    "\n"
   ]
  },
  {
   "cell_type": "code",
   "execution_count": 14,
   "id": "2f3688df",
   "metadata": {},
   "outputs": [
    {
     "name": "stdout",
     "output_type": "stream",
     "text": [
      "3 2\n"
     ]
    }
   ],
   "source": [
    "a=int(input())\n",
    "b=int(input())\n",
    "a=a^b\n",
    "b=a^b\n",
    "a=a^b\n",
    "print(a,b)\n",
    "\n",
    "\n",
    "\n"
   ]
  },
  {
   "cell_type": "code",
   "execution_count": 22,
   "id": "2002633e",
   "metadata": {},
   "outputs": [
    {
     "name": "stdout",
     "output_type": "stream",
     "text": [
      "true\n"
     ]
    }
   ],
   "source": [
    "a=int(input())\n",
    "if a&(a-1)==0:\n",
    "    print(\"true\")\n",
    "else:\n",
    "    print(\"false\")"
   ]
  },
  {
   "cell_type": "code",
   "execution_count": 23,
   "id": "e6a39003",
   "metadata": {},
   "outputs": [
    {
     "name": "stdout",
     "output_type": "stream",
     "text": [
      "1.0\n"
     ]
    }
   ],
   "source": [
    "a=float(input())\n",
    "b=float(input())\n",
    "print(a//b)\n"
   ]
  },
  {
   "cell_type": "code",
   "execution_count": 29,
   "id": "3b104bfa",
   "metadata": {},
   "outputs": [
    {
     "name": "stdout",
     "output_type": "stream",
     "text": [
      "2.0\n"
     ]
    }
   ],
   "source": [
    "a=float(input())\n",
    "b=float(input())\n",
    "c=a/b\n",
    "if c==a//b:\n",
    "    print(c)\n",
    "else:\n",
    "    print(a//b+1)"
   ]
  },
  {
   "cell_type": "code",
   "execution_count": 31,
   "id": "81233bab",
   "metadata": {},
   "outputs": [
    {
     "name": "stdout",
     "output_type": "stream",
     "text": [
      "fail\n"
     ]
    }
   ],
   "source": [
    "a=int(input())\n",
    "if a<=0:\n",
    "    print(\"fail\")\n",
    "elif a>0:\n",
    "    if a%2==0:\n",
    "        print(\"even\")\n",
    "    else:\n",
    "        print(\"odd\")"
   ]
  },
  {
   "cell_type": "code",
   "execution_count": 32,
   "id": "c806a6ec",
   "metadata": {},
   "outputs": [
    {
     "name": "stdout",
     "output_type": "stream",
     "text": [
      "no\n"
     ]
    }
   ],
   "source": [
    "a,b=map(int,input().split())\n",
    "if a<0 and b<0:\n",
    "    print(\"yes\")\n",
    "else:\n",
    "    print(\"no\")"
   ]
  },
  {
   "cell_type": "code",
   "execution_count": 33,
   "id": "aa2a66dc",
   "metadata": {},
   "outputs": [
    {
     "name": "stdout",
     "output_type": "stream",
     "text": [
      "no\n"
     ]
    }
   ],
   "source": [
    "a,b=map(str,input().split())\n",
    "if len(a)>len(b):\n",
    "    print(\"yes\")\n",
    "else:\n",
    "    print(\"no\")"
   ]
  },
  {
   "cell_type": "code",
   "execution_count": 36,
   "id": "fcdd8f1e",
   "metadata": {},
   "outputs": [
    {
     "name": "stdout",
     "output_type": "stream",
     "text": [
      "la ba canh cua tam giac\n"
     ]
    }
   ],
   "source": [
    "a,b,c=map(int,input().split())\n",
    "if a>0 and b>0 and c>0:\n",
    "    if a+b>c and b+c>a and c+a>b:\n",
    "        print(\"la ba canh cua tam giac\")\n",
    "    else:\n",
    "        print(\"fail\")\n",
    "else:\n",
    "    print(\"fail\")\n",
    "    \n"
   ]
  },
  {
   "cell_type": "code",
   "execution_count": 37,
   "id": "ef5a841f",
   "metadata": {},
   "outputs": [
    {
     "name": "stdout",
     "output_type": "stream",
     "text": [
      "4\n"
     ]
    }
   ],
   "source": [
    "a,b,c,d=map(int,input().split())\n",
    "print(max(a,b,c,d))"
   ]
  },
  {
   "cell_type": "code",
   "execution_count": 4,
   "id": "034a6d7a",
   "metadata": {},
   "outputs": [
    {
     "name": "stdout",
     "output_type": "stream",
     "text": [
      "fail\n"
     ]
    }
   ],
   "source": [
    "a,b,c=map(int,input().split())\n",
    "if a>0 and b>0 and c>0:\n",
    "    if a+b>c and b+c>a and c+a>b:\n",
    "        print(\"la ba canh cua tam giac\")\n",
    "        if a==b==c:\n",
    "            print(\"tam giac deu\")\n",
    "        elif a==b!=c or b==c!=a or c==a!=b:\n",
    "            print(\"tam giac can\")\n",
    "    else:\n",
    "        print(\"fail\")\n",
    "else:\n",
    "    print(\"fail\")"
   ]
  },
  {
   "cell_type": "code",
   "execution_count": 6,
   "id": "d57567ec",
   "metadata": {},
   "outputs": [
    {
     "name": "stdout",
     "output_type": "stream",
     "text": [
      "la nam nhuan\n"
     ]
    }
   ],
   "source": [
    "year=int(input())\n",
    "if year>0 and year%4==0 and year%100!=0:\n",
    "    print(\"la nam nhuan\")\n",
    "elif year>0 and year%400==0:\n",
    "    print(\"la nam nhuan\")\n",
    "else:\n",
    "    print(\"khong phai nam nhuan\")"
   ]
  },
  {
   "cell_type": "code",
   "execution_count": 8,
   "id": "3ae5d07b",
   "metadata": {},
   "outputs": [
    {
     "name": "stdout",
     "output_type": "stream",
     "text": [
      "106000.0\n"
     ]
    }
   ],
   "source": [
    "kWh=float(input())\n",
    "tiendien=0\n",
    "if 0<kWh<=50:\n",
    "    tiendien= kWh*1500\n",
    "elif 50<kWh<=100:\n",
    "    tiendien=kWh*2000\n",
    "elif kWh>100:\n",
    "    tiendien=kWh*3000\n",
    "print(tiendien)\n",
    "    \n"
   ]
  },
  {
   "cell_type": "code",
   "execution_count": 9,
   "id": "cf4e0a94",
   "metadata": {},
   "outputs": [
    {
     "name": "stdout",
     "output_type": "stream",
     "text": [
      "PT co nghiem la -2.0\n"
     ]
    }
   ],
   "source": [
    "a=float(input())\n",
    "b=float(input())\n",
    "x=-b/a\n",
    "if a==0:\n",
    "    print(\"vo nghiem\")\n",
    "elif a==b==0:\n",
    "    print(\"vo so nghiem\")\n",
    "else:\n",
    "    print(\"PT co nghiem la\",x)"
   ]
  },
  {
   "cell_type": "code",
   "execution_count": 10,
   "id": "d8e4b47a",
   "metadata": {},
   "outputs": [
    {
     "name": "stdout",
     "output_type": "stream",
     "text": [
      "hoc luc yeu\n"
     ]
    }
   ],
   "source": [
    "score=float(input())\n",
    "if score<5.0:\n",
    "    print(\"hoc luc yeu\")\n",
    "elif 5.0<=score<6.5:\n",
    "    print(\"hoc luc trung binh\")\n",
    "elif 6.5<=score<8.0:\n",
    "    print(\"hoc luc kha\")\n",
    "elif 8.0<=score:\n",
    "    print(\"hoc luc gioi\")"
   ]
  },
  {
   "cell_type": "code",
   "execution_count": null,
   "id": "5fbc54ac",
   "metadata": {},
   "outputs": [],
   "source": [
    "x = float(input())\n",
    "if x >= 0:\n",
    "    floor = int(x)\n",
    "else:\n",
    "    if int(x) == x:\n",
    "        floor = int(x)\n",
    "    else:\n",
    "        floor = int(x) - 1\n",
    "\n",
    "if x >= 0:\n",
    "    if int(x) == x:\n",
    "        ceil = int(x)\n",
    "    else:\n",
    "        ceil = int(x) + 1\n",
    "else:\n",
    "    ceil = int(x)\n",
    "\n",
    "fraction = x - int(x)\n",
    "if x >= 0:\n",
    "    if fraction < 0.5:\n",
    "        nearest = int(x)\n",
    "    else:\n",
    "        nearest = int(x) + 1\n",
    "else:\n",
    "    if abs(fraction) < 0.5:\n",
    "        nearest = int(x)\n",
    "    else:\n",
    "        nearest = int(x) - 1\n",
    "\n",
    "print(ceil, floor, nearest)\n"
   ]
  }
 ],
 "metadata": {
  "kernelspec": {
   "display_name": "Python 3",
   "language": "python",
   "name": "python3"
  },
  "language_info": {
   "codemirror_mode": {
    "name": "ipython",
    "version": 3
   },
   "file_extension": ".py",
   "mimetype": "text/x-python",
   "name": "python",
   "nbconvert_exporter": "python",
   "pygments_lexer": "ipython3",
   "version": "3.13.7"
  }
 },
 "nbformat": 4,
 "nbformat_minor": 5
}
